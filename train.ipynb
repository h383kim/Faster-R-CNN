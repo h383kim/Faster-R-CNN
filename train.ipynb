{
 "cells": [
  {
   "cell_type": "code",
   "execution_count": 1,
   "id": "3b45d7b0-da00-4fec-9e63-cf8c1245c7dc",
   "metadata": {},
   "outputs": [],
   "source": [
    "import torch\n",
    "from data.VOCDataset import CustomDataset\n",
    "from torch.utils.data import DataLoader\n",
    "from torch.optim.lr_scheduler import MultiStepLR\n",
    "from model.utils import *\n",
    "from model.RPN import RegionProposalNetwork\n",
    "from model.ROI_Detector import ROI_Detector\n",
    "from model.Faster_RCNN import FasterRCNN"
   ]
  },
  {
   "cell_type": "code",
   "execution_count": 2,
   "id": "4d6ad8b4-62c2-407d-8c02-10542ac41e35",
   "metadata": {},
   "outputs": [],
   "source": [
    "device = \"cuda\" if torch.cuda.is_available() else \"cpu\"\n",
    "device = \"mps\" if torch.backends.mps.is_available() else \"cpu\""
   ]
  },
  {
   "cell_type": "code",
   "execution_count": 3,
   "id": "249928a3-0d6c-4bcd-b10f-880f612ff1e6",
   "metadata": {},
   "outputs": [],
   "source": [
    "train_dataset = CustomDataset('/Users/h383kim/pytorch/data')"
   ]
  },
  {
   "cell_type": "code",
   "execution_count": 4,
   "id": "98b29d35-e06c-4442-bdff-c922cfc6c68b",
   "metadata": {},
   "outputs": [],
   "source": [
    "from torch.utils.data import DataLoader\n",
    "\n",
    "BATCH_SIZE = 1\n",
    "\n",
    "train_dataloader = DataLoader(train_dataset,\n",
    "                              batch_size=BATCH_SIZE,\n",
    "                              shuffle=True)\n",
    "                              "
   ]
  },
  {
   "cell_type": "code",
   "execution_count": 5,
   "id": "e8ec85b0-db39-47bb-88eb-13d93f568ba0",
   "metadata": {},
   "outputs": [],
   "source": [
    "faster_rcnn = FasterRCNN().to(device)"
   ]
  },
  {
   "cell_type": "code",
   "execution_count": 6,
   "id": "cc2409bd-5026-48dc-b127-8c52d8d5584b",
   "metadata": {},
   "outputs": [
    {
     "data": {
      "text/plain": [
       "FasterRCNN(\n",
       "  (shared_backbone): Sequential(\n",
       "    (0): Conv2d(3, 64, kernel_size=(3, 3), stride=(1, 1), padding=(1, 1))\n",
       "    (1): BatchNorm2d(64, eps=1e-05, momentum=0.1, affine=True, track_running_stats=True)\n",
       "    (2): ReLU(inplace=True)\n",
       "    (3): Conv2d(64, 64, kernel_size=(3, 3), stride=(1, 1), padding=(1, 1))\n",
       "    (4): BatchNorm2d(64, eps=1e-05, momentum=0.1, affine=True, track_running_stats=True)\n",
       "    (5): ReLU(inplace=True)\n",
       "    (6): MaxPool2d(kernel_size=2, stride=2, padding=0, dilation=1, ceil_mode=False)\n",
       "    (7): Conv2d(64, 128, kernel_size=(3, 3), stride=(1, 1), padding=(1, 1))\n",
       "    (8): BatchNorm2d(128, eps=1e-05, momentum=0.1, affine=True, track_running_stats=True)\n",
       "    (9): ReLU(inplace=True)\n",
       "    (10): Conv2d(128, 128, kernel_size=(3, 3), stride=(1, 1), padding=(1, 1))\n",
       "    (11): BatchNorm2d(128, eps=1e-05, momentum=0.1, affine=True, track_running_stats=True)\n",
       "    (12): ReLU(inplace=True)\n",
       "    (13): MaxPool2d(kernel_size=2, stride=2, padding=0, dilation=1, ceil_mode=False)\n",
       "    (14): Conv2d(128, 256, kernel_size=(3, 3), stride=(1, 1), padding=(1, 1))\n",
       "    (15): BatchNorm2d(256, eps=1e-05, momentum=0.1, affine=True, track_running_stats=True)\n",
       "    (16): ReLU(inplace=True)\n",
       "    (17): Conv2d(256, 256, kernel_size=(3, 3), stride=(1, 1), padding=(1, 1))\n",
       "    (18): BatchNorm2d(256, eps=1e-05, momentum=0.1, affine=True, track_running_stats=True)\n",
       "    (19): ReLU(inplace=True)\n",
       "    (20): Conv2d(256, 256, kernel_size=(3, 3), stride=(1, 1), padding=(1, 1))\n",
       "    (21): BatchNorm2d(256, eps=1e-05, momentum=0.1, affine=True, track_running_stats=True)\n",
       "    (22): ReLU(inplace=True)\n",
       "    (23): MaxPool2d(kernel_size=2, stride=2, padding=0, dilation=1, ceil_mode=False)\n",
       "    (24): Conv2d(256, 512, kernel_size=(3, 3), stride=(1, 1), padding=(1, 1))\n",
       "    (25): BatchNorm2d(512, eps=1e-05, momentum=0.1, affine=True, track_running_stats=True)\n",
       "    (26): ReLU(inplace=True)\n",
       "    (27): Conv2d(512, 512, kernel_size=(3, 3), stride=(1, 1), padding=(1, 1))\n",
       "    (28): BatchNorm2d(512, eps=1e-05, momentum=0.1, affine=True, track_running_stats=True)\n",
       "    (29): ReLU(inplace=True)\n",
       "    (30): Conv2d(512, 512, kernel_size=(3, 3), stride=(1, 1), padding=(1, 1))\n",
       "    (31): BatchNorm2d(512, eps=1e-05, momentum=0.1, affine=True, track_running_stats=True)\n",
       "    (32): ReLU(inplace=True)\n",
       "    (33): MaxPool2d(kernel_size=2, stride=2, padding=0, dilation=1, ceil_mode=False)\n",
       "    (34): Conv2d(512, 512, kernel_size=(3, 3), stride=(1, 1), padding=(1, 1))\n",
       "    (35): BatchNorm2d(512, eps=1e-05, momentum=0.1, affine=True, track_running_stats=True)\n",
       "    (36): ReLU(inplace=True)\n",
       "    (37): Conv2d(512, 512, kernel_size=(3, 3), stride=(1, 1), padding=(1, 1))\n",
       "    (38): BatchNorm2d(512, eps=1e-05, momentum=0.1, affine=True, track_running_stats=True)\n",
       "    (39): ReLU(inplace=True)\n",
       "    (40): Conv2d(512, 512, kernel_size=(3, 3), stride=(1, 1), padding=(1, 1))\n",
       "    (41): BatchNorm2d(512, eps=1e-05, momentum=0.1, affine=True, track_running_stats=True)\n",
       "    (42): ReLU(inplace=True)\n",
       "  )\n",
       "  (rpn): RegionProposalNetwork(\n",
       "    (rpn_conv): Conv2d(512, 512, kernel_size=(3, 3), stride=(1, 1), padding=(1, 1))\n",
       "    (cls_layer): Conv2d(512, 18, kernel_size=(1, 1), stride=(1, 1))\n",
       "    (bbox_layer): Conv2d(512, 36, kernel_size=(1, 1), stride=(1, 1))\n",
       "  )\n",
       "  (roi_detector): ROI_Detector(\n",
       "    (fc6): Sequential(\n",
       "      (0): Linear(in_features=25088, out_features=2048, bias=True)\n",
       "      (1): ReLU()\n",
       "    )\n",
       "    (fc7): Sequential(\n",
       "      (0): Linear(in_features=2048, out_features=2048, bias=True)\n",
       "      (1): ReLU()\n",
       "    )\n",
       "    (cls_layer): Linear(in_features=2048, out_features=20, bias=True)\n",
       "    (bbox_regressor): Linear(in_features=2048, out_features=80, bias=True)\n",
       "  )\n",
       ")"
      ]
     },
     "execution_count": 6,
     "metadata": {},
     "output_type": "execute_result"
    }
   ],
   "source": [
    "faster_rcnn"
   ]
  },
  {
   "cell_type": "code",
   "execution_count": 7,
   "id": "1b123017-2795-40b7-99d9-3d0aee017aad",
   "metadata": {},
   "outputs": [],
   "source": [
    "optimizer = torch.optim.SGD(filter(lambda p: p.requires_grad, faster_rcnn.parameters()),\n",
    "                            lr=0.001,\n",
    "                            momentum=0.9,\n",
    "                            weight_decay=0.0005)\n",
    "scheduler = MultiStepLR(optimizer, milestones=[12, 16], gamma=0.1)"
   ]
  },
  {
   "cell_type": "code",
   "execution_count": 8,
   "id": "61f345a0-f77d-4db1-8c04-92e7a0b6a074",
   "metadata": {},
   "outputs": [],
   "source": [
    "from tqdm import tqdm\n",
    "\n",
    "def train(model, dataloader, optimizer, loss_dict):\n",
    "    model.train()\n",
    "    \n",
    "    train_loss = 0.0\n",
    "    for image, target in tqdm(dataloader):\n",
    "        image = image.permute(0, 3, 1, 2)\n",
    "        image = image.to(device)\n",
    "        target['bboxes'] = target['bboxes'].to(device)\n",
    "        target['labels'] = target['labels'].to(device)\n",
    "        \n",
    "        # Forward Pass\n",
    "        rpn_output, roi_detector_output = model(image, target)\n",
    "        \n",
    "        # Calculate the loss\n",
    "        rpn_loss = rpn_output['rpn_cls_loss'] + rpn_output['rpn_localization_loss']\n",
    "        detector_loss = roi_detector_output['cls_loss'] + roi_detector_output['localization_loss']\n",
    "        loss = rpn_loss + detector_loss\n",
    "        # Storing losses info\n",
    "        loss_dict['rpn_cls_loss'].append(rpn_output['rpn_cls_loss'].item())\n",
    "        loss_dict['rpn_loc_loss'].append(rpn_output['rpn_localization_loss'].item())\n",
    "        loss_dict['detector_cls_loss'].append(roi_detector_output['cls_loss'].item())\n",
    "        loss_dict['detector_loc_loss'].append(roi_detector_output['localization_loss'].item())\n",
    "        train_loss += loss\n",
    "\n",
    "        # Optimizer zero_grad\n",
    "        optimizer.zero_grad()\n",
    "\n",
    "        # Loss backward\n",
    "        loss.backward()\n",
    "\n",
    "        # Optimizer step\n",
    "        optimizer.step()\n",
    "        \n",
    "    train_loss /= len(dataloader)\n",
    "    return train_loss, loss_dict"
   ]
  },
  {
   "cell_type": "code",
   "execution_count": 9,
   "id": "baacab25-093c-4f94-96fc-0386a23dbf10",
   "metadata": {},
   "outputs": [],
   "source": [
    "from time import time\n",
    "\n",
    "loss_checkpoints = {\n",
    "    'rpn_cls_loss': [],\n",
    "    'rpn_loc_loss': [],\n",
    "    'detector_cls_loss': [],\n",
    "    'detector_loc_loss': []\n",
    "}\n",
    "\n",
    "def baseline(model, dataloader, optimizer, num_epochs=1):    \n",
    "    for epoch in range(1, num_epochs + 1):\n",
    "        start = time()\n",
    "        \n",
    "        loss_dict = {\n",
    "            'rpn_cls_loss': [],\n",
    "            'rpn_loc_loss': [],\n",
    "            'detector_cls_loss': [],\n",
    "            'detector_loc_loss': []\n",
    "        }\n",
    "        \n",
    "        train_loss, loss_dict = train(model, dataloader, optimizer, loss_dict)\n",
    "        \n",
    "        # Saving to checkpoints\n",
    "        loss_checkpoints['rpn_cls_loss'].append(np.mean(loss_dict['rpn_cls_loss']))\n",
    "        loss_checkpoints['rpn_loc_loss'].append(np.mean(loss_dict['rpn_loc_loss']))\n",
    "        loss_checkpoints['detector_cls_loss'].append(np.mean(loss_dict['detector_cls_loss']))\n",
    "        loss_checkpoints['detector_loc_loss'].append(np.mean(loss_dict['detector_cls_loss']))\n",
    "        \n",
    "        loss_output = f\"---------- Epoch {epoch}: {((time() - start) / 60):.2f} min taken ----------\\n\"\n",
    "        loss_output += 'RPN Classification Loss : {:.4f}'.format(np.mean(loss_dict['rpn_cls_loss']))\n",
    "        loss_output += ' | RPN Localization Loss : {:.4f}'.format(np.mean(loss_dict['rpn_loc_loss']))\n",
    "        loss_output += ' | FRCNN Classification Loss : {:.4f}'.format(np.mean(loss_dict['detector_cls_loss']))\n",
    "        loss_output += ' | FRCNN Localization Loss : {:.4f}'.format(np.mean(loss_dict['detector_loc_loss']))\n",
    "\n",
    "        scheduler.step()\n",
    "        \n",
    "        print(loss_output)\n",
    "\n",
    "        # Save weights / model\n",
    "        torch.save(model.state_dict(), 'model.pth')\n",
    "\n",
    "    return model"
   ]
  },
  {
   "cell_type": "code",
   "execution_count": null,
   "id": "ed1e4170-4080-4026-8579-c1827f311f0d",
   "metadata": {},
   "outputs": [],
   "source": [
    "faster_rcnn_baseline = baseline(faster_rcnn, train_dataloader, optimizer, 20)"
   ]
  },
  {
   "cell_type": "code",
   "execution_count": null,
   "id": "633e2406-d5a8-4635-b5e3-f8ea6855dd07",
   "metadata": {},
   "outputs": [],
   "source": [
    "import pickle as pkl\n",
    "\n",
    "with open(r'.\\loss.pkl', 'wb') as f:\n",
    "    pkl.dump(loss_checkpoints, f)\n",
    "\n",
    "torch.save(faster_rcnn_baseline.state_dict(), r'.\\model_checkpoint.pth')"
   ]
  }
 ],
 "metadata": {
  "kernelspec": {
   "display_name": "Python (env)",
   "language": "python",
   "name": "env"
  },
  "language_info": {
   "codemirror_mode": {
    "name": "ipython",
    "version": 3
   },
   "file_extension": ".py",
   "mimetype": "text/x-python",
   "name": "python",
   "nbconvert_exporter": "python",
   "pygments_lexer": "ipython3",
   "version": "3.8.19"
  }
 },
 "nbformat": 4,
 "nbformat_minor": 5
}
